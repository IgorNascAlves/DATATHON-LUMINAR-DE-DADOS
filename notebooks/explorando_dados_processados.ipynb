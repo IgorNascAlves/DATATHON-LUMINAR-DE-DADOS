{
 "cells": [
  {
   "cell_type": "markdown",
   "metadata": {},
   "source": [
    "## Imports"
   ]
  },
  {
   "cell_type": "code",
   "execution_count": 9,
   "metadata": {},
   "outputs": [],
   "source": [
    "import pandas as pd"
   ]
  },
  {
   "cell_type": "markdown",
   "metadata": {},
   "source": [
    "## Leitura dos dados"
   ]
  },
  {
   "cell_type": "code",
   "execution_count": 10,
   "metadata": {},
   "outputs": [],
   "source": [
    "path_pede_passos_2020 = '../dados/dados_processados/pede_passos_2020.csv'\n",
    "path_pede_passos_2021 = '../dados/dados_processados/pede_passos_2021.csv'\n",
    "path_pede_passos_2022 = '../dados/dados_processados/pede_passos_2022.csv'"
   ]
  },
  {
   "cell_type": "code",
   "execution_count": 11,
   "metadata": {},
   "outputs": [],
   "source": [
    "df_pede_passos_2020 = pd.read_csv(path_pede_passos_2020, sep=';')\n",
    "df_pede_passos_2021 = pd.read_csv(path_pede_passos_2021, sep=';')\n",
    "df_pede_passos_2022 = pd.read_csv(path_pede_passos_2022, sep=';')"
   ]
  },
  {
   "cell_type": "code",
   "execution_count": 12,
   "metadata": {},
   "outputs": [
    {
     "name": "stdout",
     "output_type": "stream",
     "text": [
      "Dados de 2020: 1349 linhas e 18 colunas\n",
      "Dados de 2021: 1349 linhas e 20 colunas\n",
      "Dados de 2022: 1349 linhas e 30 colunas\n"
     ]
    }
   ],
   "source": [
    "print(f\"Dados de 2020: {df_pede_passos_2020.shape[0]} linhas e {df_pede_passos_2020.shape[1]} colunas\")\n",
    "print(f\"Dados de 2021: {df_pede_passos_2021.shape[0]} linhas e {df_pede_passos_2021.shape[1]} colunas\")\n",
    "print(f\"Dados de 2022: {df_pede_passos_2022.shape[0]} linhas e {df_pede_passos_2022.shape[1]} colunas\")"
   ]
  },
  {
   "cell_type": "code",
   "execution_count": 13,
   "metadata": {},
   "outputs": [
    {
     "data": {
      "text/html": [
       "<div>\n",
       "<style scoped>\n",
       "    .dataframe tbody tr th:only-of-type {\n",
       "        vertical-align: middle;\n",
       "    }\n",
       "\n",
       "    .dataframe tbody tr th {\n",
       "        vertical-align: top;\n",
       "    }\n",
       "\n",
       "    .dataframe thead th {\n",
       "        text-align: right;\n",
       "    }\n",
       "</style>\n",
       "<table border=\"1\" class=\"dataframe\">\n",
       "  <thead>\n",
       "    <tr style=\"text-align: right;\">\n",
       "      <th></th>\n",
       "      <th>INSTITUICAO_ENSINO_ALUNO_2020</th>\n",
       "      <th>IDADE_ALUNO_2020</th>\n",
       "      <th>ANOS_PM_2020</th>\n",
       "      <th>FASE_TURMA_2020</th>\n",
       "      <th>PONTO_VIRADA_2020</th>\n",
       "      <th>INDE_2020</th>\n",
       "      <th>INDE_CONCEITO_2020</th>\n",
       "      <th>PEDRA_2020</th>\n",
       "      <th>DESTAQUE_IEG_2020</th>\n",
       "      <th>DESTAQUE_IDA_2020</th>\n",
       "      <th>DESTAQUE_IPV_2020</th>\n",
       "      <th>IAA_2020</th>\n",
       "      <th>IEG_2020</th>\n",
       "      <th>IPS_2020</th>\n",
       "      <th>IDA_2020</th>\n",
       "      <th>IPP_2020</th>\n",
       "      <th>IPV_2020</th>\n",
       "      <th>IAN_2020</th>\n",
       "    </tr>\n",
       "  </thead>\n",
       "  <tbody>\n",
       "    <tr>\n",
       "      <th>count</th>\n",
       "      <td>728</td>\n",
       "      <td>728</td>\n",
       "      <td>728</td>\n",
       "      <td>728</td>\n",
       "      <td>702</td>\n",
       "      <td>728</td>\n",
       "      <td>728</td>\n",
       "      <td>728</td>\n",
       "      <td>728</td>\n",
       "      <td>728</td>\n",
       "      <td>703</td>\n",
       "      <td>728</td>\n",
       "      <td>728</td>\n",
       "      <td>728</td>\n",
       "      <td>728</td>\n",
       "      <td>728</td>\n",
       "      <td>728</td>\n",
       "      <td>728</td>\n",
       "    </tr>\n",
       "    <tr>\n",
       "      <th>unique</th>\n",
       "      <td>8</td>\n",
       "      <td>15</td>\n",
       "      <td>6</td>\n",
       "      <td>63</td>\n",
       "      <td>3</td>\n",
       "      <td>728</td>\n",
       "      <td>5</td>\n",
       "      <td>5</td>\n",
       "      <td>5</td>\n",
       "      <td>5</td>\n",
       "      <td>2</td>\n",
       "      <td>45</td>\n",
       "      <td>90</td>\n",
       "      <td>14</td>\n",
       "      <td>74</td>\n",
       "      <td>69</td>\n",
       "      <td>368</td>\n",
       "      <td>4</td>\n",
       "    </tr>\n",
       "    <tr>\n",
       "      <th>top</th>\n",
       "      <td>Escola Pública</td>\n",
       "      <td>10</td>\n",
       "      <td>1</td>\n",
       "      <td>8A</td>\n",
       "      <td>Não</td>\n",
       "      <td>7.883752</td>\n",
       "      <td>B</td>\n",
       "      <td>Ametista</td>\n",
       "      <td>Seu destaque em 2020: A sua boa entrega das li...</td>\n",
       "      <td>Ponto a melhorar em 2021: Empenhar-se mais nas...</td>\n",
       "      <td>Ponto a melhorar em 2021: Integrar-se mais aos...</td>\n",
       "      <td>9.000020000000001</td>\n",
       "      <td>10</td>\n",
       "      <td>7.5</td>\n",
       "      <td>10</td>\n",
       "      <td>8.125</td>\n",
       "      <td>7.75</td>\n",
       "      <td>10</td>\n",
       "    </tr>\n",
       "    <tr>\n",
       "      <th>freq</th>\n",
       "      <td>598</td>\n",
       "      <td>107</td>\n",
       "      <td>305</td>\n",
       "      <td>24</td>\n",
       "      <td>607</td>\n",
       "      <td>1</td>\n",
       "      <td>336</td>\n",
       "      <td>336</td>\n",
       "      <td>476</td>\n",
       "      <td>404</td>\n",
       "      <td>368</td>\n",
       "      <td>123</td>\n",
       "      <td>87</td>\n",
       "      <td>396</td>\n",
       "      <td>73</td>\n",
       "      <td>73</td>\n",
       "      <td>31</td>\n",
       "      <td>359</td>\n",
       "    </tr>\n",
       "  </tbody>\n",
       "</table>\n",
       "</div>"
      ],
      "text/plain": [
       "       INSTITUICAO_ENSINO_ALUNO_2020 IDADE_ALUNO_2020 ANOS_PM_2020  \\\n",
       "count                            728              728          728   \n",
       "unique                             8               15            6   \n",
       "top                   Escola Pública               10            1   \n",
       "freq                             598              107          305   \n",
       "\n",
       "       FASE_TURMA_2020 PONTO_VIRADA_2020 INDE_2020 INDE_CONCEITO_2020  \\\n",
       "count              728               702       728                728   \n",
       "unique              63                 3       728                  5   \n",
       "top                 8A               Não  7.883752                  B   \n",
       "freq                24               607         1                336   \n",
       "\n",
       "       PEDRA_2020                                  DESTAQUE_IEG_2020  \\\n",
       "count         728                                                728   \n",
       "unique          5                                                  5   \n",
       "top      Ametista  Seu destaque em 2020: A sua boa entrega das li...   \n",
       "freq          336                                                476   \n",
       "\n",
       "                                        DESTAQUE_IDA_2020  \\\n",
       "count                                                 728   \n",
       "unique                                                  5   \n",
       "top     Ponto a melhorar em 2021: Empenhar-se mais nas...   \n",
       "freq                                                  404   \n",
       "\n",
       "                                        DESTAQUE_IPV_2020           IAA_2020  \\\n",
       "count                                                 703                728   \n",
       "unique                                                  2                 45   \n",
       "top     Ponto a melhorar em 2021: Integrar-se mais aos...  9.000020000000001   \n",
       "freq                                                  368                123   \n",
       "\n",
       "       IEG_2020 IPS_2020 IDA_2020 IPP_2020 IPV_2020 IAN_2020  \n",
       "count       728      728      728      728      728      728  \n",
       "unique       90       14       74       69      368        4  \n",
       "top          10      7.5       10    8.125     7.75       10  \n",
       "freq         87      396       73       73       31      359  "
      ]
     },
     "execution_count": 13,
     "metadata": {},
     "output_type": "execute_result"
    }
   ],
   "source": [
    "df_pede_passos_2020.describe()"
   ]
  }
 ],
 "metadata": {
  "kernelspec": {
   "display_name": ".venv",
   "language": "python",
   "name": "python3"
  },
  "language_info": {
   "codemirror_mode": {
    "name": "ipython",
    "version": 3
   },
   "file_extension": ".py",
   "mimetype": "text/x-python",
   "name": "python",
   "nbconvert_exporter": "python",
   "pygments_lexer": "ipython3",
   "version": "3.11.3"
  }
 },
 "nbformat": 4,
 "nbformat_minor": 2
}
